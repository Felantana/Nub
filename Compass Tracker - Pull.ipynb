{
 "cells": [
  {
   "cell_type": "markdown",
   "metadata": {},
   "source": [
    "# Pull from Compass Tracker"
   ]
  },
  {
   "cell_type": "code",
   "execution_count": null,
   "metadata": {},
   "outputs": [],
   "source": [
    "# ---------------------------------------- Importing libraries\n",
    "\n",
    "import swagger_client.compass_lib as compass\n",
    "from datetime import date,timedelta\n",
    "import swagger_client.pull_utils as utils\n",
    "import os\n",
    "\n",
    "# ---------------------------------------- Conection to Compass API\n",
    "access_token,configuration,user_info = compass.init_conn()\n",
    "\n",
    "# # -------------------------------------------------------- Retrieving data from Compass Tracker\n",
    "requests_df = utils.pull_accounts(min_req = 1, limit = 999, iterations_to_reconnect = 250, configuration = configuration)\n",
    "today = str(date.today().strftime(\"%Y_%m_%d\"))\n",
    "requests_df.to_csv(\"Compass_Tracker_Copy.csv\")\n",
    "requests_df.to_csv(f\"Compass_Tracker_Copy_{today}.csv\")"
   ]
  },
  {
   "cell_type": "code",
   "execution_count": null,
   "metadata": {},
   "outputs": [],
   "source": [
    "sharepoint_url = 'https://nubsieteocho.sharepoint.com/sites/ODAOPS'\n",
    "user_credentials = UserCredential(os.environ[\"NUB_EMAIL\"], os.environ[\"NUB_PASS\"])\n",
    "ctx = ClientContext(sharepoint_url).with_credentials(user_credentials)\n",
    "\n",
    "target_folder = ctx.web.get_folder_by_server_relative_url('Shared Documents/General/CAB Trackers/Repository/All_Compass_Copy')\n",
    "content_file = open(\"Compass_Tracker_Copy.csv\", 'rb')\n",
    "file_content = content_file.read()\n",
    "content_file.close()\n",
    "print(len(file_content))\n",
    "target_folder.upload_file(\"Compass_Tracker_Copy.csv\", file_content).execute_query()\n"
   ]
  }
 ],
 "metadata": {
  "kernelspec": {
   "display_name": "Python 3",
   "language": "python",
   "name": "python3"
  },
  "language_info": {
   "codemirror_mode": {
    "name": "ipython",
    "version": 3
   },
   "file_extension": ".py",
   "mimetype": "text/x-python",
   "name": "python",
   "nbconvert_exporter": "python",
   "pygments_lexer": "ipython3",
   "version": "3.10.4"
  },
  "toc": {
   "base_numbering": 1,
   "nav_menu": {},
   "number_sections": true,
   "sideBar": true,
   "skip_h1_title": false,
   "title_cell": "Table of Contents",
   "title_sidebar": "Contents",
   "toc_cell": false,
   "toc_position": {},
   "toc_section_display": true,
   "toc_window_display": false
  },
  "vscode": {
   "interpreter": {
    "hash": "1eb9e3451ad5f7a708cece07f5d4144c6dae975a86acdf3ae424aed7754dbfc2"
   }
  }
 },
 "nbformat": 4,
 "nbformat_minor": 4
}
